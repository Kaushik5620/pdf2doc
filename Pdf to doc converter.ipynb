{
 "cells": [
  {
   "cell_type": "code",
   "execution_count": 1,
   "id": "41d77103",
   "metadata": {},
   "outputs": [
    {
     "name": "stdout",
     "output_type": "stream",
     "text": [
      "Enter the name of the PDF file (including the extension): mypdf.pdf\n",
      "Enter the name for the DOC file (including the extension): mynewdoc.doc\n"
     ]
    },
    {
     "name": "stderr",
     "output_type": "stream",
     "text": [
      "[INFO] Start to convert mypdf.pdf\n",
      "[INFO] \u001b[1;36m[1/4] Opening document...\u001b[0m\n",
      "[INFO] \u001b[1;36m[2/4] Analyzing document...\u001b[0m\n",
      "[WARNING] Words count: 0. It might be a scanned pdf, which is not supported yet.\n",
      "[INFO] \u001b[1;36m[3/4] Parsing pages...\u001b[0m\n",
      "[INFO] (1/30) Page 1\n",
      "[INFO] (2/30) Page 2\n",
      "[INFO] (3/30) Page 3\n",
      "[INFO] (4/30) Page 4\n",
      "[INFO] (5/30) Page 5\n",
      "[INFO] (6/30) Page 6\n",
      "[INFO] (7/30) Page 7\n",
      "[INFO] (8/30) Page 8\n",
      "[INFO] (9/30) Page 9\n",
      "[INFO] (10/30) Page 10\n",
      "[INFO] (11/30) Page 11\n",
      "[INFO] (12/30) Page 12\n",
      "[INFO] (13/30) Page 13\n",
      "[INFO] (14/30) Page 14\n",
      "[INFO] (15/30) Page 15\n",
      "[INFO] (16/30) Page 16\n",
      "[INFO] (17/30) Page 17\n",
      "[INFO] (18/30) Page 18\n",
      "[INFO] (19/30) Page 19\n",
      "[INFO] (20/30) Page 20\n",
      "[INFO] (21/30) Page 21\n",
      "[INFO] (22/30) Page 22\n",
      "[INFO] (23/30) Page 23\n",
      "[INFO] (24/30) Page 24\n",
      "[INFO] (25/30) Page 25\n",
      "[INFO] (26/30) Page 26\n",
      "[INFO] (27/30) Page 27\n",
      "[INFO] (28/30) Page 28\n",
      "[INFO] (29/30) Page 29\n",
      "[INFO] (30/30) Page 30\n",
      "[INFO] \u001b[1;36m[4/4] Creating pages...\u001b[0m\n",
      "[INFO] (1/30) Page 1\n",
      "[INFO] (2/30) Page 2\n",
      "[INFO] (3/30) Page 3\n",
      "[INFO] (4/30) Page 4\n",
      "[INFO] (5/30) Page 5\n",
      "[INFO] (6/30) Page 6\n",
      "[INFO] (7/30) Page 7\n",
      "[INFO] (8/30) Page 8\n",
      "[INFO] (9/30) Page 9\n",
      "[INFO] (10/30) Page 10\n",
      "[INFO] (11/30) Page 11\n",
      "[INFO] (12/30) Page 12\n",
      "[INFO] (13/30) Page 13\n",
      "[INFO] (14/30) Page 14\n",
      "[INFO] (15/30) Page 15\n",
      "[INFO] (16/30) Page 16\n",
      "[INFO] (17/30) Page 17\n",
      "[INFO] (18/30) Page 18\n",
      "[INFO] (19/30) Page 19\n",
      "[INFO] (20/30) Page 20\n",
      "[INFO] (21/30) Page 21\n",
      "[INFO] (22/30) Page 22\n",
      "[INFO] (23/30) Page 23\n",
      "[INFO] (24/30) Page 24\n",
      "[INFO] (25/30) Page 25\n",
      "[INFO] (26/30) Page 26\n",
      "[INFO] (27/30) Page 27\n",
      "[INFO] (28/30) Page 28\n",
      "[INFO] (29/30) Page 29\n",
      "[INFO] (30/30) Page 30\n",
      "[INFO] Terminated in 14.34s.\n"
     ]
    },
    {
     "name": "stdout",
     "output_type": "stream",
     "text": [
      "Conversion completed successfully!\n"
     ]
    }
   ],
   "source": [
    "from pdf2docx import Converter\n",
    "\n",
    "pdf_file = input(\"Enter the name of the PDF file (including the extension): \")\n",
    "doc_file = input(\"Enter the name for the DOC file (including the extension): \")\n",
    "\n",
    "# Initialize the Converter object\n",
    "converter = Converter(pdf_file)\n",
    "\n",
    "# Convert PDF to DOC\n",
    "converter.convert(doc_file)\n",
    "\n",
    "# Close the Converter object\n",
    "converter.close()\n",
    "\n",
    "print(\"Conversion completed successfully!\")\n"
   ]
  },
  {
   "cell_type": "code",
   "execution_count": null,
   "id": "0ba029a0",
   "metadata": {},
   "outputs": [],
   "source": []
  },
  {
   "cell_type": "code",
   "execution_count": null,
   "id": "13b7edd3",
   "metadata": {},
   "outputs": [],
   "source": []
  }
 ],
 "metadata": {
  "kernelspec": {
   "display_name": "Python 3 (ipykernel)",
   "language": "python",
   "name": "python3"
  },
  "language_info": {
   "codemirror_mode": {
    "name": "ipython",
    "version": 3
   },
   "file_extension": ".py",
   "mimetype": "text/x-python",
   "name": "python",
   "nbconvert_exporter": "python",
   "pygments_lexer": "ipython3",
   "version": "3.11.2"
  }
 },
 "nbformat": 4,
 "nbformat_minor": 5
}
